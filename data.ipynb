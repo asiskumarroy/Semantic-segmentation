{
 "cells": [
  {
   "cell_type": "code",
   "execution_count": 5,
   "metadata": {
    "colab": {},
    "colab_type": "code",
    "id": "GB9kdH197_CL"
   },
   "outputs": [],
   "source": [
    "import os\n",
    "import numpy as np\n",
    "import cv2 as cv"
   ]
  },
  {
   "cell_type": "code",
   "execution_count": 6,
   "metadata": {
    "colab": {},
    "colab_type": "code",
    "id": "68cpk7RB8VHx"
   },
   "outputs": [],
   "source": [
    "def train_value():\n",
    "  x_train,y_train=[],[]\n",
    "  k=os.listdir('train_png/')\n",
    "  for img in k:\n",
    "    val=cv.imread('train_png/'+img)\n",
    "    val = cv.cvtColor(val, cv.COLOR_BGR2GRAY)\n",
    "    res=cv.resize(val,(256,256))\n",
    "    res=np.expand_dims(res,axis=2)\n",
    "    x_train.append(np.array(res))\n",
    "  k=os.listdir('train_masks_png/')\n",
    "  for img in k:\n",
    "    val=cv.imread('train_masks_png/'+img)\n",
    "    val = cv.cvtColor(val, cv.COLOR_BGR2GRAY)\n",
    "    res=cv.resize(val,(256,256))\n",
    "    res=np.expand_dims(res,axis=2)\n",
    "    y_train.append(np.array(res))\n",
    "  return x_train,y_train"
   ]
  },
  {
   "cell_type": "code",
   "execution_count": 0,
   "metadata": {
    "colab": {},
    "colab_type": "code",
    "id": "zPFFdSA4akvC"
   },
   "outputs": [],
   "source": []
  }
 ],
 "metadata": {
  "accelerator": "GPU",
  "colab": {
   "collapsed_sections": [],
   "name": "data.ipynb",
   "provenance": []
  },
  "kernelspec": {
   "display_name": "Python 3",
   "language": "python",
   "name": "python3"
  },
  "language_info": {
   "codemirror_mode": {
    "name": "ipython",
    "version": 3
   },
   "file_extension": ".py",
   "mimetype": "text/x-python",
   "name": "python",
   "nbconvert_exporter": "python",
   "pygments_lexer": "ipython3",
   "version": "3.7.7"
  }
 },
 "nbformat": 4,
 "nbformat_minor": 1
}
