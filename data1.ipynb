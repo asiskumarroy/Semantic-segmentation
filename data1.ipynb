{
 "cells": [
  {
   "cell_type": "code",
   "execution_count": 1,
   "metadata": {
    "colab": {},
    "colab_type": "code",
    "id": "dAx0QinlDkVA"
   },
   "outputs": [],
   "source": [
    "import os\n",
    "import numpy as np\n",
    "import cv2 as cv"
   ]
  },
  {
   "cell_type": "code",
   "execution_count": 2,
   "metadata": {
    "colab": {},
    "colab_type": "code",
    "id": "Dd_zGcOODypz"
   },
   "outputs": [],
   "source": [
    "def val_value():\n",
    "  x_val,y_val=[],[]\n",
    "  k=os.listdir('val_png/')\n",
    "  for img in k:\n",
    "    val=cv.imread('val_png/'+img)\n",
    "    val = cv.cvtColor(val,cv.COLOR_BGR2GRAY)\n",
    "    res=cv.resize(val,(256,256))\n",
    "    res=np.expand_dims(res,axis=2)\n",
    "    x_val.append(np.array(res))\n",
    "  k=os.listdir('val_masks_png/')\n",
    "  for img in k:\n",
    "    val=cv.imread('val_masks_png/'+img)\n",
    "    val = cv.cvtColor(val,cv.COLOR_BGR2GRAY)\n",
    "    res=cv.resize(val,(256,256))\n",
    "    res=np.expand_dims(res,axis=2)\n",
    "    y_val.append(np.array(res))\n",
    "  return x_val,y_val"
   ]
  },
  {
   "cell_type": "code",
   "execution_count": 0,
   "metadata": {
    "colab": {},
    "colab_type": "code",
    "id": "lGQpZRMaT6MQ"
   },
   "outputs": [],
   "source": []
  }
 ],
 "metadata": {
  "accelerator": "GPU",
  "colab": {
   "collapsed_sections": [],
   "name": "data1.ipynb",
   "provenance": []
  },
  "kernelspec": {
   "display_name": "Python 3",
   "language": "python",
   "name": "python3"
  },
  "language_info": {
   "codemirror_mode": {
    "name": "ipython",
    "version": 3
   },
   "file_extension": ".py",
   "mimetype": "text/x-python",
   "name": "python",
   "nbconvert_exporter": "python",
   "pygments_lexer": "ipython3",
   "version": "3.7.7"
  }
 },
 "nbformat": 4,
 "nbformat_minor": 1
}
