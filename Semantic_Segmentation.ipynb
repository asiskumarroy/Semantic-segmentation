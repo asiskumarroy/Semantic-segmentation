{
 "cells": [
  {
   "cell_type": "code",
   "execution_count": null,
   "metadata": {
    "colab": {
     "base_uri": "https://localhost:8080/",
     "height": 101
    },
    "colab_type": "code",
    "id": "9lq2ul_pftdl",
    "outputId": "724972cf-95a5-4f47-bab1-88411ae7dcba"
   },
   "outputs": [],
   "source": [
    "import import_ipynb\n",
    "import numpy as np\n",
    "import matplotlib.pyplot as plt\n",
    "import matplotlib\n",
    "%matplotlib inline"
   ]
  },
  {
   "cell_type": "code",
   "execution_count": null,
   "metadata": {
    "colab": {
     "base_uri": "https://localhost:8080/",
     "height": 34
    },
    "colab_type": "code",
    "id": "10l-8bTif9wU",
    "outputId": "a45b1413-9ce3-44b8-cee0-181b0cf3f2ed"
   },
   "outputs": [],
   "source": [
    "import tensorflow as tf\n",
    "\n",
    "print (tf.__version__)"
   ]
  },
  {
   "cell_type": "code",
   "execution_count": null,
   "metadata": {
    "colab": {
     "base_uri": "https://localhost:8080/",
     "height": 34
    },
    "colab_type": "code",
    "id": "oP5sBNYWXX23",
    "outputId": "1c18b9cc-62ce-4dac-a2c7-ba23e0486226"
   },
   "outputs": [],
   "source": [
    "#To know if your system is built with CUDA and using gpu or not.\n",
    "\n",
    "print (\"Usage of gpu: {}\".format(tf.test.is_gpu_available())) \n",
    "print (\"Built with CUDA: {}\".format(tf.test.is_built_with_cuda()))"
   ]
  },
  {
   "cell_type": "markdown",
   "metadata": {
    "colab_type": "text",
    "id": "8xLrrVH1gdn_"
   },
   "source": [
    "## Loading the train set images and respective masked images"
   ]
  },
  {
   "cell_type": "code",
   "execution_count": null,
   "metadata": {
    "colab": {
     "base_uri": "https://localhost:8080/",
     "height": 34
    },
    "colab_type": "code",
    "id": "4CsY8eqKxnB4",
    "outputId": "38d6c562-d6e6-430c-c8ce-481a1ae43408"
   },
   "outputs": [],
   "source": [
    "x_train_img,x_val_img=[],[]\n",
    "y_train_mask,y_val_mask=[],[]"
   ]
  },
  {
   "cell_type": "code",
   "execution_count": null,
   "metadata": {
    "colab": {},
    "colab_type": "code",
    "id": "HuiwZp8fBhuS"
   },
   "outputs": [],
   "source": [
    "import data\n",
    "x_train_img,y_train_mask=data.train_value()"
   ]
  },
  {
   "cell_type": "markdown",
   "metadata": {},
   "source": [
    "## Standardizing the train images and the masked images"
   ]
  },
  {
   "cell_type": "code",
   "execution_count": null,
   "metadata": {
    "colab": {},
    "colab_type": "code",
    "id": "HbhYqy5DigvJ"
   },
   "outputs": [],
   "source": [
    "x_train_img=np.asarray(x_train_img)\n",
    "y_train_mask=np.asarray(y_train_mask)\n",
    "\n",
    "x_train_img_m=np.mean(x_train_img,axis=0,keepdims=True)\n",
    "x_train_img_s=np.std(x_train_img,axis=0,keepdims=True)\n",
    "\n",
    "x_train_img=(x_train_img-x_train_img_m)/x_train_img_s\n",
    "y_train_mask=y_train_mask*(1./255)"
   ]
  },
  {
   "cell_type": "code",
   "execution_count": null,
   "metadata": {
    "colab": {
     "base_uri": "https://localhost:8080/",
     "height": 34
    },
    "colab_type": "code",
    "id": "kPlfG6zTjxkk",
    "outputId": "ecfc6af4-1ca4-4a17-983c-826b9464f204"
   },
   "outputs": [],
   "source": [
    "print(x_train_img.shape,y_train_mask.shape) "
   ]
  },
  {
   "cell_type": "code",
   "execution_count": null,
   "metadata": {
    "colab": {},
    "colab_type": "code",
    "id": "RndgeEhnDf2d"
   },
   "outputs": [],
   "source": [
    "import data1\n",
    "x_val_img,y_val_mask=data1.val_value()"
   ]
  },
  {
   "cell_type": "markdown",
   "metadata": {},
   "source": [
    "## Standardizing the validation set images and the validation  masked images"
   ]
  },
  {
   "cell_type": "code",
   "execution_count": null,
   "metadata": {
    "colab": {},
    "colab_type": "code",
    "id": "n0Qm7IX5zkcs"
   },
   "outputs": [],
   "source": [
    "x_val_img=np.asarray(x_val_img)\n",
    "y_val_mask=np.asarray(y_val_mask)\n",
    "\n",
    "x_val_img_m=np.mean(x_val_img,axis=0,keepdims=True)\n",
    "x_val_img_s=np.std(x_val_img,axis=0,keepdims=True)\n",
    "\n",
    "x_val_img=(x_val_img-x_val_img_m)/x_val_img_s\n",
    "y_val_mask=y_val_mask*(1./255)"
   ]
  },
  {
   "cell_type": "code",
   "execution_count": null,
   "metadata": {
    "colab": {
     "base_uri": "https://localhost:8080/",
     "height": 34
    },
    "colab_type": "code",
    "id": "e-Mokh7Hzkcv",
    "outputId": "cda27290-71be-4d3e-98cf-39c3ddf00e17"
   },
   "outputs": [],
   "source": [
    "print (x_val_img.shape,y_val_mask.shape)"
   ]
  },
  {
   "cell_type": "markdown",
   "metadata": {},
   "source": [
    "#### importing the necessary functions from tensorflow's keras API to construct my U-NET architecture"
   ]
  },
  {
   "cell_type": "code",
   "execution_count": null,
   "metadata": {
    "colab": {
     "base_uri": "https://localhost:8080/",
     "height": 34
    },
    "colab_type": "code",
    "id": "iypBwQBSgGGO",
    "outputId": "1f9b8f38-74ee-45b3-e9d2-57e890b05e11"
   },
   "outputs": [],
   "source": [
    "from tensorflow.keras.models import Model\n",
    "from tensorflow.keras.layers import Conv2D,BatchNormalization,Activation,MaxPooling2D,Input,Flatten,Dropout,Conv2DTranspose,concatenate\n",
    "from keras import optimizers\n",
    "from keras import backend as K\n",
    "import cv2 as cv"
   ]
  },
  {
   "cell_type": "markdown",
   "metadata": {},
   "source": [
    "#### Designing custom metric (dice coefficient) as a performance metric and custom loss function(dice loss) to upgrade the parametrics   "
   ]
  },
  {
   "cell_type": "code",
   "execution_count": null,
   "metadata": {
    "colab": {},
    "colab_type": "code",
    "id": "Qe_eDWEPSEti"
   },
   "outputs": [],
   "source": [
    "def dice_coef(y_true, y_pred):\n",
    "    y_true_f = K.flatten(y_true)\n",
    "    y_pred_f = K.flatten(y_pred)\n",
    "    intersection = K.sum(y_true_f * y_pred_f)\n",
    "    return (2. * intersection + 1) / (K.sum(y_true_f**2) + K.sum(y_pred_f**2) + 1)"
   ]
  },
  {
   "cell_type": "code",
   "execution_count": null,
   "metadata": {
    "colab": {},
    "colab_type": "code",
    "id": "EG5oJpZfVdgf"
   },
   "outputs": [],
   "source": [
    "def dice_loss(y_true,y_pred):\n",
    "    return 1-dice_coef(y_true,y_pred)"
   ]
  },
  {
   "cell_type": "code",
   "execution_count": null,
   "metadata": {
    "colab": {},
    "colab_type": "code",
    "id": "ThrlM6XEZhGz"
   },
   "outputs": [],
   "source": [
    "def conv2d_block(input_tensor, n_filters, kernel_size = 3, batchnorm = True):\n",
    "    \"\"\"Function to add 2 convolutional layers with the parameters passed to it\"\"\"\n",
    "    # first layer\n",
    "    x = Conv2D(filters = n_filters, kernel_size = (kernel_size, kernel_size),\\\n",
    "              kernel_initializer = 'he_normal', padding = 'same')(input_tensor)\n",
    "    if batchnorm:\n",
    "        x = BatchNormalization()(x)\n",
    "    x = Activation('relu')(x)\n",
    "    \n",
    "    # second layer\n",
    "    x = Conv2D(filters = n_filters, kernel_size = (kernel_size, kernel_size),\\\n",
    "              kernel_initializer = 'he_normal', padding = 'same')(x)\n",
    "    if batchnorm:\n",
    "        x = BatchNormalization()(x)\n",
    "    x = Activation('relu')(x)\n",
    "    \n",
    "    return x"
   ]
  },
  {
   "cell_type": "markdown",
   "metadata": {
    "colab_type": "text",
    "id": "OIxX-BSyiXE_"
   },
   "source": [
    "## Creating the UNET architecture"
   ]
  },
  {
   "cell_type": "code",
   "execution_count": null,
   "metadata": {
    "colab": {},
    "colab_type": "code",
    "id": "Sko8t4MfihfL"
   },
   "outputs": [],
   "source": [
    "def get_unet(input_img, n_filters = 32, dropout = 0.2, batchnorm = True):\n",
    "    # Contracting Path\n",
    "    c1 = conv2d_block(input_img, n_filters * 1, kernel_size = 3, batchnorm = batchnorm)\n",
    "    p1 = MaxPooling2D((2, 2))(c1)\n",
    "    p1 = Dropout(dropout)(p1)\n",
    "    \n",
    "    c2 = conv2d_block(p1, n_filters * 2, kernel_size = 3, batchnorm = batchnorm)\n",
    "    p2 = MaxPooling2D((2, 2))(c2)\n",
    "    p2 = Dropout(dropout)(p2)\n",
    "    \n",
    "    c3 = conv2d_block(p2, n_filters * 4, kernel_size = 3, batchnorm = batchnorm)\n",
    "    p3 = MaxPooling2D((2, 2))(c3)\n",
    "    p3 = Dropout(dropout)(p3)\n",
    "    \n",
    "    c4 = conv2d_block(p3, n_filters * 8, kernel_size = 3, batchnorm = batchnorm)\n",
    "    p4 = MaxPooling2D((2, 2))(c4)\n",
    "    p4 = Dropout(dropout)(p4)\n",
    "    \n",
    "    c5 = conv2d_block(p4, n_filters = n_filters * 16, kernel_size = 3, batchnorm = batchnorm)\n",
    "    \n",
    "    # Expansive Path\n",
    "    u6 = Conv2DTranspose(n_filters * 8, (3, 3), strides = (2, 2), padding = 'same')(c5)\n",
    "    u6 = concatenate([u6, c4])\n",
    "    u6 = Dropout(dropout)(u6)\n",
    "    c6 = conv2d_block(u6, n_filters * 8, kernel_size = 3, batchnorm = batchnorm)\n",
    "    \n",
    "    u7 = Conv2DTranspose(n_filters * 4, (3, 3), strides = (2, 2), padding = 'same')(c6)\n",
    "    u7 = concatenate([u7, c3])\n",
    "    u7 = Dropout(dropout)(u7)\n",
    "    c7 = conv2d_block(u7, n_filters * 4, kernel_size = 3, batchnorm = batchnorm)\n",
    "    \n",
    "    u8 = Conv2DTranspose(n_filters * 2, (3, 3), strides = (2, 2), padding = 'same')(c7)\n",
    "    u8 = concatenate([u8, c2])\n",
    "    u8 = Dropout(dropout)(u8)\n",
    "    c8 = conv2d_block(u8, n_filters * 2, kernel_size = 3, batchnorm = batchnorm)\n",
    "    \n",
    "    u9 = Conv2DTranspose(n_filters * 1, (3, 3), strides = (2, 2), padding = 'same')(c8)\n",
    "    u9 = concatenate([u9, c1])\n",
    "    u9 = Dropout(dropout)(u9)\n",
    "    c9 = conv2d_block(u9, n_filters * 1, kernel_size = 3, batchnorm = batchnorm)\n",
    "    \n",
    "    outputs = Conv2D(1, (1, 1), activation='sigmoid')(c9)\n",
    "    model = Model(inputs=input_img, outputs=outputs)\n",
    "    return model"
   ]
  },
  {
   "cell_type": "markdown",
   "metadata": {
    "colab_type": "text",
    "id": "9tNa-_7ewVYV"
   },
   "source": [
    "# Preparation for training"
   ]
  },
  {
   "cell_type": "code",
   "execution_count": null,
   "metadata": {
    "colab": {
     "base_uri": "https://localhost:8080/",
     "height": 87
    },
    "colab_type": "code",
    "id": "8xarMxcMwohM",
    "outputId": "6f43d703-40a5-4694-f0e5-d866ca56e2bb"
   },
   "outputs": [],
   "source": [
    "model=get_unet(input_img=Input(shape=(256,256,1)))"
   ]
  },
  {
   "cell_type": "code",
   "execution_count": null,
   "metadata": {
    "colab": {
     "base_uri": "https://localhost:8080/",
     "height": 1000
    },
    "colab_type": "code",
    "id": "3QgJuD3jWY9c",
    "outputId": "9880c142-8805-4d3c-c222-7a137be568a9"
   },
   "outputs": [],
   "source": [
    "model.summary()"
   ]
  },
  {
   "cell_type": "code",
   "execution_count": null,
   "metadata": {
    "colab": {},
    "colab_type": "code",
    "id": "0Ap-Qpi_xDFQ"
   },
   "outputs": [],
   "source": [
    "adam = optimizers.Adam(learning_rate=0.01)\n",
    "model.compile(optimizer='adam',loss=dice_loss,metrics=[dice_coef])"
   ]
  },
  {
   "cell_type": "code",
   "execution_count": null,
   "metadata": {
    "colab": {
     "base_uri": "https://localhost:8080/",
     "height": 70
    },
    "colab_type": "code",
    "id": "hPUF0HtIqZCA",
    "outputId": "a4312817-c7ef-4882-fb6a-52b7eb8868f4"
   },
   "outputs": [],
   "source": [
    "from keras.callbacks import ModelCheckpoint, LearningRateScheduler, EarlyStopping, ReduceLROnPlateau\n",
    "model_path=\"{}_best.hdf5\".format('my_model')\n",
    "\n",
    "checkpoint = ModelCheckpoint(model_path, monitor='val_loss', verbose=1,save_best_only=True, mode='min', save_weights_only = False)\n",
    "\n",
    "reduceLROnPlat = ReduceLROnPlateau(monitor='val_loss', factor=0.5,patience=3,verbose=1, mode='min', epsilon=0.0001, cooldown=1, min_lr=1e-7)\n",
    "early = EarlyStopping(monitor=\"val_loss\",mode=\"min\",patience=7) \n",
    "callbacks_list = [checkpoint, early, reduceLROnPlat]"
   ]
  },
  {
   "cell_type": "markdown",
   "metadata": {},
   "source": [
    "## Starting the training process"
   ]
  },
  {
   "cell_type": "code",
   "execution_count": null,
   "metadata": {
    "colab": {
     "base_uri": "https://localhost:8080/",
     "height": 1000
    },
    "colab_type": "code",
    "id": "n46zk86MzkdJ",
    "outputId": "4a01bbe5-f281-449d-ffd1-d339f604a5fb"
   },
   "outputs": [],
   "source": [
    "from keras.preprocessing.image import ImageDataGenerator\n",
    "data_gen_args = dict(rotation_range=90,width_shift_range=0.1,height_shift_range=0.1,zoom_range=0.2)\n",
    "\n",
    "image_datagen = ImageDataGenerator(**data_gen_args)\n",
    "\n",
    "\n",
    "model.fit(image_datagen.flow(x_train_img,y_train_mask,batch_size=8),epochs=57,callbacks=callbacks_list,validation_data=(x_val_img,y_val_mask))"
   ]
  },
  {
   "cell_type": "code",
   "execution_count": null,
   "metadata": {
    "colab": {
     "base_uri": "https://localhost:8080/",
     "height": 87
    },
    "colab_type": "code",
    "id": "AHuQNQKo_XE8",
    "outputId": "95834f1f-956f-4cd3-f1e8-bdaba6f41c53"
   },
   "outputs": [],
   "source": [
    "##loading saved model to see its performance\n",
    "import cv2 as cv\n",
    "from tensorflow.keras.models import load_model\n",
    "modelL=load_model('my_model_best.hdf5',custom_objects={'dice_loss':dice_loss,'dice_coef':dice_coef})"
   ]
  },
  {
   "cell_type": "code",
   "execution_count": null,
   "metadata": {
    "colab": {
     "base_uri": "https://localhost:8080/",
     "height": 34
    },
    "colab_type": "code",
    "id": "CivoGVYOl8qM",
    "outputId": "4746d9de-a69b-4a2b-a45f-a9abd205e87c"
   },
   "outputs": [],
   "source": [
    "test_img=x_val_img[np.random.randint(low=0,high=141)] #choosing a random picture from valid set to predict its mask.\n",
    "test_img_final=np.expand_dims(test_img,axis=0)        #expanding its dimension so its as per the model's architecture.\n",
    "test_img=np.squeeze(test_img)"
   ]
  },
  {
   "cell_type": "code",
   "execution_count": null,
   "metadata": {
    "colab": {},
    "colab_type": "code",
    "id": "m6IPn8FAmF__"
   },
   "outputs": [],
   "source": [
    "pred_img=modelL.predict(test_img_final)              #predicting the masked image for the given test_img"
   ]
  },
  {
   "cell_type": "code",
   "execution_count": null,
   "metadata": {
    "colab": {},
    "colab_type": "code",
    "id": "Q1dDLSAxmcK9"
   },
   "outputs": [],
   "source": [
    "pred_img=np.squeeze(pred_img)\n",
    "pred_img=pred_img>0.5                                #using 0.5 as threshold where values >0.5 are 1 and rest as 0's.\n",
    "pred_img=pred_img*255.0"
   ]
  },
  {
   "cell_type": "code",
   "execution_count": null,
   "metadata": {
    "colab": {
     "base_uri": "https://localhost:8080/",
     "height": 286
    },
    "colab_type": "code",
    "id": "NXU2k40Amt5N",
    "outputId": "c24ab8e5-aded-4b6f-d297-8283992e472b"
   },
   "outputs": [],
   "source": [
    "#displaying the masked output over the gryscale image as a transparent layer\n",
    "\n",
    "im1 = plt.imshow(test_img, cmap=\"gray\")\n",
    "im2 = plt.imshow(pred_img,cmap='Greens',alpha=0.2)\n",
    "plt.show()"
   ]
  },
  {
   "cell_type": "code",
   "execution_count": null,
   "metadata": {
    "colab": {},
    "colab_type": "code",
    "id": "jIVr_jf9M3Pt"
   },
   "outputs": [],
   "source": []
  }
 ],
 "metadata": {
  "accelerator": "TPU",
  "colab": {
   "collapsed_sections": [],
   "machine_shape": "hm",
   "name": "Semantic_Segmentation.ipynb",
   "provenance": [],
   "toc_visible": true
  },
  "kernelspec": {
   "display_name": "Python 3",
   "language": "python",
   "name": "python3"
  },
  "language_info": {
   "codemirror_mode": {
    "name": "ipython",
    "version": 3
   },
   "file_extension": ".py",
   "mimetype": "text/x-python",
   "name": "python",
   "nbconvert_exporter": "python",
   "pygments_lexer": "ipython3",
   "version": "3.7.7"
  }
 },
 "nbformat": 4,
 "nbformat_minor": 1
}
